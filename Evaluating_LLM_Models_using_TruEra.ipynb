{
  "cells": [
    {
      "cell_type": "markdown",
      "metadata": {
        "id": "view-in-github",
        "colab_type": "text"
      },
      "source": [
        "<a href=\"https://colab.research.google.com/github/Vaibhav-sa30/Evaluating-LLM-Models-using-TruEra/blob/main/Evaluating_LLM_Models_using_TruEra.ipynb\" target=\"_parent\"><img src=\"https://colab.research.google.com/assets/colab-badge.svg\" alt=\"Open In Colab\"/></a>"
      ]
    },
    {
      "cell_type": "markdown",
      "source": [
        "1. **!pip install -U trulens-eval:** This command is used to install or upgrade the Python package named \"trulens-eval\". The -U flag indicates that you want to upgrade the package if it's already installed, and trulens-eval is the name of the package you're installing.\n",
        "\n",
        "2. **!npm install localtunnel -q:** This command, typically used in a Node.js environment, installs the \"localtunnel\" package. \"localtunnel\" is a tool that allows you to expose a local web server to the internet, making it accessible remotely. The -q flag suppresses the output, making the installation process less verbose.\n",
        "\n",
        "3. **!pip install -q streamlit==1.13.0:** This command installs a specific version (1.13.0) of the \"streamlit\" Python package. \"Streamlit\" is a framework used for creating web applications with Python scripts. The -q flag, similar to the previous command, suppresses output during installation."
      ],
      "metadata": {
        "id": "DceSttoVd3tm"
      },
      "id": "DceSttoVd3tm"
    },
    {
      "cell_type": "code",
      "execution_count": 1,
      "metadata": {
        "id": "mbZNKt7PdKY9",
        "colab": {
          "base_uri": "https://localhost:8080/"
        },
        "outputId": "6dcf43a0-035a-4ec2-dd6d-fe022c571814"
      },
      "outputs": [
        {
          "output_type": "stream",
          "name": "stdout",
          "text": [
            "Collecting trulens-eval\n",
            "  Downloading trulens_eval-0.10.0-py3-none-any.whl (293 kB)\n",
            "\u001b[2K     \u001b[90m━━━━━━━━━━━━━━━━━━━━━━━━━━━━━━━━━━━━━━━\u001b[0m \u001b[32m293.3/293.3 kB\u001b[0m \u001b[31m4.3 MB/s\u001b[0m eta \u001b[36m0:00:00\u001b[0m\n",
            "\u001b[?25hCollecting cohere>=4.4.1 (from trulens-eval)\n",
            "  Downloading cohere-4.21-py3-none-any.whl (45 kB)\n",
            "\u001b[2K     \u001b[90m━━━━━━━━━━━━━━━━━━━━━━━━━━━━━━━━━━━━━━━━\u001b[0m \u001b[32m45.6/45.6 kB\u001b[0m \u001b[31m4.8 MB/s\u001b[0m eta \u001b[36m0:00:00\u001b[0m\n",
            "\u001b[?25hCollecting datasets>=2.12.0 (from trulens-eval)\n",
            "  Downloading datasets-2.14.4-py3-none-any.whl (519 kB)\n",
            "\u001b[2K     \u001b[90m━━━━━━━━━━━━━━━━━━━━━━━━━━━━━━━━━━━━━━━\u001b[0m \u001b[32m519.3/519.3 kB\u001b[0m \u001b[31m4.5 MB/s\u001b[0m eta \u001b[36m0:00:00\u001b[0m\n",
            "\u001b[?25hCollecting python-dotenv>=1.0.0 (from trulens-eval)\n",
            "  Downloading python_dotenv-1.0.0-py3-none-any.whl (19 kB)\n",
            "Requirement already satisfied: kaggle>=1.5.13 in /usr/local/lib/python3.10/dist-packages (from trulens-eval) (1.5.16)\n",
            "Collecting langchain>=0.0.230 (from trulens-eval)\n",
            "  Downloading langchain-0.0.272-py3-none-any.whl (1.6 MB)\n",
            "\u001b[2K     \u001b[90m━━━━━━━━━━━━━━━━━━━━━━━━━━━━━━━━━━━━━━━━\u001b[0m \u001b[32m1.6/1.6 MB\u001b[0m \u001b[31m12.4 MB/s\u001b[0m eta \u001b[36m0:00:00\u001b[0m\n",
            "\u001b[?25hCollecting llama-index>=0.8.3 (from trulens-eval)\n",
            "  Downloading llama_index-0.8.8-py3-none-any.whl (697 kB)\n",
            "\u001b[2K     \u001b[90m━━━━━━━━━━━━━━━━━━━━━━━━━━━━━━━━━━━━━━\u001b[0m \u001b[32m697.0/697.0 kB\u001b[0m \u001b[31m17.1 MB/s\u001b[0m eta \u001b[36m0:00:00\u001b[0m\n",
            "\u001b[?25hCollecting merkle-json>=1.0.0 (from trulens-eval)\n",
            "  Downloading merkle_json-1.0.0-py3-none-any.whl (5.2 kB)\n",
            "Collecting millify>=0.1.1 (from trulens-eval)\n",
            "  Downloading millify-0.1.1.tar.gz (1.2 kB)\n",
            "  Preparing metadata (setup.py) ... \u001b[?25l\u001b[?25hdone\n",
            "Collecting openai>=0.27.6 (from trulens-eval)\n",
            "  Downloading openai-0.27.9-py3-none-any.whl (75 kB)\n",
            "\u001b[2K     \u001b[90m━━━━━━━━━━━━━━━━━━━━━━━━━━━━━━━━━━━━━━━━\u001b[0m \u001b[32m75.5/75.5 kB\u001b[0m \u001b[31m8.3 MB/s\u001b[0m eta \u001b[36m0:00:00\u001b[0m\n",
            "\u001b[?25hCollecting pinecone-client>=2.2.1 (from trulens-eval)\n",
            "  Downloading pinecone_client-2.2.2-py3-none-any.whl (179 kB)\n",
            "\u001b[2K     \u001b[90m━━━━━━━━━━━━━━━━━━━━━━━━━━━━━━━━━━━━━━\u001b[0m \u001b[32m179.1/179.1 kB\u001b[0m \u001b[31m16.7 MB/s\u001b[0m eta \u001b[36m0:00:00\u001b[0m\n",
            "\u001b[?25hRequirement already satisfied: pydantic>=1.10.7 in /usr/local/lib/python3.10/dist-packages (from trulens-eval) (2.2.0)\n",
            "Requirement already satisfied: requests>=2.30.0 in /usr/local/lib/python3.10/dist-packages (from trulens-eval) (2.31.0)\n",
            "Collecting slack-bolt>=1.18.0 (from trulens-eval)\n",
            "  Downloading slack_bolt-1.18.0-py2.py3-none-any.whl (194 kB)\n",
            "\u001b[2K     \u001b[90m━━━━━━━━━━━━━━━━━━━━━━━━━━━━━━━━━━━━━━\u001b[0m \u001b[32m194.6/194.6 kB\u001b[0m \u001b[31m15.8 MB/s\u001b[0m eta \u001b[36m0:00:00\u001b[0m\n",
            "\u001b[?25hCollecting slack-sdk>=3.21.3 (from trulens-eval)\n",
            "  Downloading slack_sdk-3.21.3-py2.py3-none-any.whl (276 kB)\n",
            "\u001b[2K     \u001b[90m━━━━━━━━━━━━━━━━━━━━━━━━━━━━━━━━━━━━━━\u001b[0m \u001b[32m276.5/276.5 kB\u001b[0m \u001b[31m13.3 MB/s\u001b[0m eta \u001b[36m0:00:00\u001b[0m\n",
            "\u001b[?25hCollecting streamlit>=1.13.0 (from trulens-eval)\n",
            "  Downloading streamlit-1.26.0-py2.py3-none-any.whl (8.1 MB)\n",
            "\u001b[2K     \u001b[90m━━━━━━━━━━━━━━━━━━━━━━━━━━━━━━━━━━━━━━━━\u001b[0m \u001b[32m8.1/8.1 MB\u001b[0m \u001b[31m35.8 MB/s\u001b[0m eta \u001b[36m0:00:00\u001b[0m\n",
            "\u001b[?25hCollecting streamlit-aggrid>=0.3.4.post3 (from trulens-eval)\n",
            "  Downloading streamlit_aggrid-0.3.4.post3-py3-none-any.whl (3.4 MB)\n",
            "\u001b[2K     \u001b[90m━━━━━━━━━━━━━━━━━━━━━━━━━━━━━━━━━━━━━━━━\u001b[0m \u001b[32m3.4/3.4 MB\u001b[0m \u001b[31m53.6 MB/s\u001b[0m eta \u001b[36m0:00:00\u001b[0m\n",
            "\u001b[?25hCollecting streamlit-extras>=0.2.7 (from trulens-eval)\n",
            "  Downloading streamlit_extras-0.3.0-py3-none-any.whl (59 kB)\n",
            "\u001b[2K     \u001b[90m━━━━━━━━━━━━━━━━━━━━━━━━━━━━━━━━━━━━━━━━\u001b[0m \u001b[32m59.7/59.7 kB\u001b[0m \u001b[31m6.5 MB/s\u001b[0m eta \u001b[36m0:00:00\u001b[0m\n",
            "\u001b[?25hCollecting streamlit-javascript>=0.1.5 (from trulens-eval)\n",
            "  Downloading streamlit_javascript-0.1.5-py3-none-any.whl (518 kB)\n",
            "\u001b[2K     \u001b[90m━━━━━━━━━━━━━━━━━━━━━━━━━━━━━━━━━━━━━━\u001b[0m \u001b[32m518.4/518.4 kB\u001b[0m \u001b[31m42.6 MB/s\u001b[0m eta \u001b[36m0:00:00\u001b[0m\n",
            "\u001b[?25hCollecting transformers>=4.10.0 (from trulens-eval)\n",
            "  Downloading transformers-4.32.0-py3-none-any.whl (7.5 MB)\n",
            "\u001b[2K     \u001b[90m━━━━━━━━━━━━━━━━━━━━━━━━━━━━━━━━━━━━━━━━\u001b[0m \u001b[32m7.5/7.5 MB\u001b[0m \u001b[31m69.6 MB/s\u001b[0m eta \u001b[36m0:00:00\u001b[0m\n",
            "\u001b[?25hCollecting typing-inspect==0.8.0 (from trulens-eval)\n",
            "  Downloading typing_inspect-0.8.0-py3-none-any.whl (8.7 kB)\n",
            "Collecting typing-extensions==4.5.0 (from trulens-eval)\n",
            "  Downloading typing_extensions-4.5.0-py3-none-any.whl (27 kB)\n",
            "Requirement already satisfied: frozendict>=2.3.8 in /usr/local/lib/python3.10/dist-packages (from trulens-eval) (2.3.8)\n",
            "Collecting munch>=3.0.0 (from trulens-eval)\n",
            "  Downloading munch-4.0.0-py2.py3-none-any.whl (9.9 kB)\n",
            "Collecting ipywidgets>=8.0.6 (from trulens-eval)\n",
            "  Downloading ipywidgets-8.1.0-py3-none-any.whl (139 kB)\n",
            "\u001b[2K     \u001b[90m━━━━━━━━━━━━━━━━━━━━━━━━━━━━━━━━━━━━━━\u001b[0m \u001b[32m139.3/139.3 kB\u001b[0m \u001b[31m15.8 MB/s\u001b[0m eta \u001b[36m0:00:00\u001b[0m\n",
            "\u001b[?25hRequirement already satisfied: numpy>=1.23.5 in /usr/local/lib/python3.10/dist-packages (from trulens-eval) (1.23.5)\n",
            "Requirement already satisfied: sqlalchemy>=2.0.19 in /usr/local/lib/python3.10/dist-packages (from trulens-eval) (2.0.20)\n",
            "Collecting alembic>=1.11.2 (from trulens-eval)\n",
            "  Downloading alembic-1.11.3-py3-none-any.whl (225 kB)\n",
            "\u001b[2K     \u001b[90m━━━━━━━━━━━━━━━━━━━━━━━━━━━━━━━━━━━━━━\u001b[0m \u001b[32m225.4/225.4 kB\u001b[0m \u001b[31m22.8 MB/s\u001b[0m eta \u001b[36m0:00:00\u001b[0m\n",
            "\u001b[?25hCollecting mypy-extensions>=0.3.0 (from typing-inspect==0.8.0->trulens-eval)\n",
            "  Downloading mypy_extensions-1.0.0-py3-none-any.whl (4.7 kB)\n",
            "Collecting Mako (from alembic>=1.11.2->trulens-eval)\n",
            "  Downloading Mako-1.2.4-py3-none-any.whl (78 kB)\n",
            "\u001b[2K     \u001b[90m━━━━━━━━━━━━━━━━━━━━━━━━━━━━━━━━━━━━━━━━\u001b[0m \u001b[32m78.7/78.7 kB\u001b[0m \u001b[31m9.8 MB/s\u001b[0m eta \u001b[36m0:00:00\u001b[0m\n",
            "\u001b[?25hRequirement already satisfied: aiohttp<4.0,>=3.0 in /usr/local/lib/python3.10/dist-packages (from cohere>=4.4.1->trulens-eval) (3.8.5)\n",
            "Collecting backoff<3.0,>=2.0 (from cohere>=4.4.1->trulens-eval)\n",
            "  Downloading backoff-2.2.1-py3-none-any.whl (15 kB)\n",
            "Collecting fastavro==1.8.2 (from cohere>=4.4.1->trulens-eval)\n",
            "  Downloading fastavro-1.8.2-cp310-cp310-manylinux_2_17_x86_64.manylinux2014_x86_64.whl (2.7 MB)\n",
            "\u001b[2K     \u001b[90m━━━━━━━━━━━━━━━━━━━━━━━━━━━━━━━━━━━━━━━━\u001b[0m \u001b[32m2.7/2.7 MB\u001b[0m \u001b[31m18.1 MB/s\u001b[0m eta \u001b[36m0:00:00\u001b[0m\n",
            "\u001b[?25hRequirement already satisfied: importlib_metadata<7.0,>=6.0 in /usr/local/lib/python3.10/dist-packages (from cohere>=4.4.1->trulens-eval) (6.8.0)\n",
            "Requirement already satisfied: urllib3<3,>=1.26 in /usr/local/lib/python3.10/dist-packages (from cohere>=4.4.1->trulens-eval) (2.0.4)\n",
            "Requirement already satisfied: pyarrow>=8.0.0 in /usr/local/lib/python3.10/dist-packages (from datasets>=2.12.0->trulens-eval) (9.0.0)\n",
            "Collecting dill<0.3.8,>=0.3.0 (from datasets>=2.12.0->trulens-eval)\n",
            "  Downloading dill-0.3.7-py3-none-any.whl (115 kB)\n",
            "\u001b[2K     \u001b[90m━━━━━━━━━━━━━━━━━━━━━━━━━━━━━━━━━━━━━━━\u001b[0m \u001b[32m115.3/115.3 kB\u001b[0m \u001b[31m6.3 MB/s\u001b[0m eta \u001b[36m0:00:00\u001b[0m\n",
            "\u001b[?25hRequirement already satisfied: pandas in /usr/local/lib/python3.10/dist-packages (from datasets>=2.12.0->trulens-eval) (1.5.3)\n",
            "Requirement already satisfied: tqdm>=4.62.1 in /usr/local/lib/python3.10/dist-packages (from datasets>=2.12.0->trulens-eval) (4.66.1)\n",
            "Collecting xxhash (from datasets>=2.12.0->trulens-eval)\n",
            "  Downloading xxhash-3.3.0-cp310-cp310-manylinux_2_17_x86_64.manylinux2014_x86_64.whl (194 kB)\n",
            "\u001b[2K     \u001b[90m━━━━━━━━━━━━━━━━━━━━━━━━━━━━━━━━━━━━━━\u001b[0m \u001b[32m194.1/194.1 kB\u001b[0m \u001b[31m16.8 MB/s\u001b[0m eta \u001b[36m0:00:00\u001b[0m\n",
            "\u001b[?25hCollecting multiprocess (from datasets>=2.12.0->trulens-eval)\n",
            "  Downloading multiprocess-0.70.15-py310-none-any.whl (134 kB)\n",
            "\u001b[2K     \u001b[90m━━━━━━━━━━━━━━━━━━━━━━━━━━━━━━━━━━━━━━\u001b[0m \u001b[32m134.8/134.8 kB\u001b[0m \u001b[31m12.6 MB/s\u001b[0m eta \u001b[36m0:00:00\u001b[0m\n",
            "\u001b[?25hRequirement already satisfied: fsspec[http]>=2021.11.1 in /usr/local/lib/python3.10/dist-packages (from datasets>=2.12.0->trulens-eval) (2023.6.0)\n",
            "Collecting huggingface-hub<1.0.0,>=0.14.0 (from datasets>=2.12.0->trulens-eval)\n",
            "  Downloading huggingface_hub-0.16.4-py3-none-any.whl (268 kB)\n",
            "\u001b[2K     \u001b[90m━━━━━━━━━━━━━━━━━━━━━━━━━━━━━━━━━━━━━━\u001b[0m \u001b[32m268.8/268.8 kB\u001b[0m \u001b[31m11.1 MB/s\u001b[0m eta \u001b[36m0:00:00\u001b[0m\n",
            "\u001b[?25hRequirement already satisfied: packaging in /usr/local/lib/python3.10/dist-packages (from datasets>=2.12.0->trulens-eval) (23.1)\n",
            "Requirement already satisfied: pyyaml>=5.1 in /usr/local/lib/python3.10/dist-packages (from datasets>=2.12.0->trulens-eval) (6.0.1)\n",
            "Collecting comm>=0.1.3 (from ipywidgets>=8.0.6->trulens-eval)\n",
            "  Downloading comm-0.1.4-py3-none-any.whl (6.6 kB)\n",
            "Requirement already satisfied: ipython>=6.1.0 in /usr/local/lib/python3.10/dist-packages (from ipywidgets>=8.0.6->trulens-eval) (7.34.0)\n",
            "Requirement already satisfied: traitlets>=4.3.1 in /usr/local/lib/python3.10/dist-packages (from ipywidgets>=8.0.6->trulens-eval) (5.7.1)\n",
            "Collecting widgetsnbextension~=4.0.7 (from ipywidgets>=8.0.6->trulens-eval)\n",
            "  Downloading widgetsnbextension-4.0.8-py3-none-any.whl (2.3 MB)\n",
            "\u001b[2K     \u001b[90m━━━━━━━━━━━━━━━━━━━━━━━━━━━━━━━━━━━━━━━━\u001b[0m \u001b[32m2.3/2.3 MB\u001b[0m \u001b[31m58.0 MB/s\u001b[0m eta \u001b[36m0:00:00\u001b[0m\n",
            "\u001b[?25hRequirement already satisfied: jupyterlab-widgets~=3.0.7 in /usr/local/lib/python3.10/dist-packages (from ipywidgets>=8.0.6->trulens-eval) (3.0.8)\n",
            "Requirement already satisfied: six>=1.10 in /usr/local/lib/python3.10/dist-packages (from kaggle>=1.5.13->trulens-eval) (1.16.0)\n",
            "Requirement already satisfied: certifi in /usr/local/lib/python3.10/dist-packages (from kaggle>=1.5.13->trulens-eval) (2023.7.22)\n",
            "Requirement already satisfied: python-dateutil in /usr/local/lib/python3.10/dist-packages (from kaggle>=1.5.13->trulens-eval) (2.8.2)\n",
            "Requirement already satisfied: python-slugify in /usr/local/lib/python3.10/dist-packages (from kaggle>=1.5.13->trulens-eval) (8.0.1)\n",
            "Requirement already satisfied: bleach in /usr/local/lib/python3.10/dist-packages (from kaggle>=1.5.13->trulens-eval) (6.0.0)\n",
            "Requirement already satisfied: async-timeout<5.0.0,>=4.0.0 in /usr/local/lib/python3.10/dist-packages (from langchain>=0.0.230->trulens-eval) (4.0.3)\n",
            "Collecting dataclasses-json<0.6.0,>=0.5.7 (from langchain>=0.0.230->trulens-eval)\n",
            "  Downloading dataclasses_json-0.5.14-py3-none-any.whl (26 kB)\n",
            "Requirement already satisfied: google-api-core<3.0.0,>=2.11.1 in /usr/local/lib/python3.10/dist-packages (from langchain>=0.0.230->trulens-eval) (2.11.1)\n",
            "Collecting langsmith<0.1.0,>=0.0.21 (from langchain>=0.0.230->trulens-eval)\n",
            "  Downloading langsmith-0.0.26-py3-none-any.whl (34 kB)\n",
            "Requirement already satisfied: numexpr<3.0.0,>=2.8.4 in /usr/local/lib/python3.10/dist-packages (from langchain>=0.0.230->trulens-eval) (2.8.5)\n",
            "Requirement already satisfied: tenacity<9.0.0,>=8.1.0 in /usr/local/lib/python3.10/dist-packages (from langchain>=0.0.230->trulens-eval) (8.2.3)\n",
            "Collecting tiktoken (from llama-index>=0.8.3->trulens-eval)\n",
            "  Downloading tiktoken-0.4.0-cp310-cp310-manylinux_2_17_x86_64.manylinux2014_x86_64.whl (1.7 MB)\n",
            "\u001b[2K     \u001b[90m━━━━━━━━━━━━━━━━━━━━━━━━━━━━━━━━━━━━━━━━\u001b[0m \u001b[32m1.7/1.7 MB\u001b[0m \u001b[31m66.6 MB/s\u001b[0m eta \u001b[36m0:00:00\u001b[0m\n",
            "\u001b[?25hCollecting langchain>=0.0.230 (from trulens-eval)\n",
            "  Downloading langchain-0.0.266-py3-none-any.whl (1.5 MB)\n",
            "\u001b[2K     \u001b[90m━━━━━━━━━━━━━━━━━━━━━━━━━━━━━━━━━━━━━━━━\u001b[0m \u001b[32m1.5/1.5 MB\u001b[0m \u001b[31m65.0 MB/s\u001b[0m eta \u001b[36m0:00:00\u001b[0m\n",
            "\u001b[?25hCollecting urllib3<3,>=1.26 (from cohere>=4.4.1->trulens-eval)\n",
            "  Downloading urllib3-1.26.16-py2.py3-none-any.whl (143 kB)\n",
            "\u001b[2K     \u001b[90m━━━━━━━━━━━━━━━━━━━━━━━━━━━━━━━━━━━━━━\u001b[0m \u001b[32m143.1/143.1 kB\u001b[0m \u001b[31m12.7 MB/s\u001b[0m eta \u001b[36m0:00:00\u001b[0m\n",
            "\u001b[?25hRequirement already satisfied: beautifulsoup4 in /usr/local/lib/python3.10/dist-packages (from llama-index>=0.8.3->trulens-eval) (4.11.2)\n",
            "Requirement already satisfied: nest-asyncio in /usr/local/lib/python3.10/dist-packages (from llama-index>=0.8.3->trulens-eval) (1.5.7)\n",
            "Collecting openapi-schema-pydantic<2.0,>=1.2 (from langchain>=0.0.230->trulens-eval)\n",
            "  Downloading openapi_schema_pydantic-1.2.4-py3-none-any.whl (90 kB)\n",
            "\u001b[2K     \u001b[90m━━━━━━━━━━━━━━━━━━━━━━━━━━━━━━━━━━━━━━━━\u001b[0m \u001b[32m90.0/90.0 kB\u001b[0m \u001b[31m10.1 MB/s\u001b[0m eta \u001b[36m0:00:00\u001b[0m\n",
            "\u001b[?25hCollecting pydantic>=1.10.7 (from trulens-eval)\n",
            "  Downloading pydantic-1.10.12-cp310-cp310-manylinux_2_17_x86_64.manylinux2014_x86_64.whl (3.1 MB)\n",
            "\u001b[2K     \u001b[90m━━━━━━━━━━━━━━━━━━━━━━━━━━━━━━━━━━━━━━━━\u001b[0m \u001b[32m3.1/3.1 MB\u001b[0m \u001b[31m93.4 MB/s\u001b[0m eta \u001b[36m0:00:00\u001b[0m\n",
            "\u001b[?25hCollecting loguru>=0.5.0 (from pinecone-client>=2.2.1->trulens-eval)\n",
            "  Downloading loguru-0.7.0-py3-none-any.whl (59 kB)\n",
            "\u001b[2K     \u001b[90m━━━━━━━━━━━━━━━━━━━━━━━━━━━━━━━━━━━━━━━━\u001b[0m \u001b[32m60.0/60.0 kB\u001b[0m \u001b[31m6.8 MB/s\u001b[0m eta \u001b[36m0:00:00\u001b[0m\n",
            "\u001b[?25hCollecting dnspython>=2.0.0 (from pinecone-client>=2.2.1->trulens-eval)\n",
            "  Downloading dnspython-2.4.2-py3-none-any.whl (300 kB)\n",
            "\u001b[2K     \u001b[90m━━━━━━━━━━━━━━━━━━━━━━━━━━━━━━━━━━━━━━\u001b[0m \u001b[32m300.4/300.4 kB\u001b[0m \u001b[31m26.6 MB/s\u001b[0m eta \u001b[36m0:00:00\u001b[0m\n",
            "\u001b[?25hRequirement already satisfied: charset-normalizer<4,>=2 in /usr/local/lib/python3.10/dist-packages (from requests>=2.30.0->trulens-eval) (3.2.0)\n",
            "Requirement already satisfied: idna<4,>=2.5 in /usr/local/lib/python3.10/dist-packages (from requests>=2.30.0->trulens-eval) (3.4)\n",
            "Requirement already satisfied: greenlet!=0.4.17 in /usr/local/lib/python3.10/dist-packages (from sqlalchemy>=2.0.19->trulens-eval) (2.0.2)\n",
            "Requirement already satisfied: altair<6,>=4.0 in /usr/local/lib/python3.10/dist-packages (from streamlit>=1.13.0->trulens-eval) (4.2.2)\n",
            "Requirement already satisfied: blinker<2,>=1.0.0 in /usr/lib/python3/dist-packages (from streamlit>=1.13.0->trulens-eval) (1.4)\n",
            "Requirement already satisfied: cachetools<6,>=4.0 in /usr/local/lib/python3.10/dist-packages (from streamlit>=1.13.0->trulens-eval) (5.3.1)\n",
            "Requirement already satisfied: click<9,>=7.0 in /usr/local/lib/python3.10/dist-packages (from streamlit>=1.13.0->trulens-eval) (8.1.7)\n",
            "Requirement already satisfied: pillow<10,>=7.1.0 in /usr/local/lib/python3.10/dist-packages (from streamlit>=1.13.0->trulens-eval) (9.4.0)\n",
            "Requirement already satisfied: protobuf<5,>=3.20 in /usr/local/lib/python3.10/dist-packages (from streamlit>=1.13.0->trulens-eval) (3.20.3)\n",
            "Collecting pympler<2,>=0.9 (from streamlit>=1.13.0->trulens-eval)\n",
            "  Downloading Pympler-1.0.1-py3-none-any.whl (164 kB)\n",
            "\u001b[2K     \u001b[90m━━━━━━━━━━━━━━━━━━━━━━━━━━━━━━━━━━━━━━\u001b[0m \u001b[32m164.8/164.8 kB\u001b[0m \u001b[31m18.7 MB/s\u001b[0m eta \u001b[36m0:00:00\u001b[0m\n",
            "\u001b[?25hRequirement already satisfied: rich<14,>=10.14.0 in /usr/local/lib/python3.10/dist-packages (from streamlit>=1.13.0->trulens-eval) (13.5.2)\n",
            "Requirement already satisfied: toml<2,>=0.10.1 in /usr/local/lib/python3.10/dist-packages (from streamlit>=1.13.0->trulens-eval) (0.10.2)\n",
            "Collecting tzlocal<5,>=1.1 (from streamlit>=1.13.0->trulens-eval)\n",
            "  Downloading tzlocal-4.3.1-py3-none-any.whl (20 kB)\n",
            "Collecting validators<1,>=0.2 (from streamlit>=1.13.0->trulens-eval)\n",
            "  Downloading validators-0.21.2-py3-none-any.whl (25 kB)\n",
            "Collecting gitpython!=3.1.19,<4,>=3.0.7 (from streamlit>=1.13.0->trulens-eval)\n",
            "  Downloading GitPython-3.1.32-py3-none-any.whl (188 kB)\n",
            "\u001b[2K     \u001b[90m━━━━━━━━━━━━━━━━━━━━━━━━━━━━━━━━━━━━━━\u001b[0m \u001b[32m188.5/188.5 kB\u001b[0m \u001b[31m20.9 MB/s\u001b[0m eta \u001b[36m0:00:00\u001b[0m\n",
            "\u001b[?25hCollecting pydeck<1,>=0.8 (from streamlit>=1.13.0->trulens-eval)\n",
            "  Downloading pydeck-0.8.0-py2.py3-none-any.whl (4.7 MB)\n",
            "\u001b[2K     \u001b[90m━━━━━━━━━━━━━━━━━━━━━━━━━━━━━━━━━━━━━━━━\u001b[0m \u001b[32m4.7/4.7 MB\u001b[0m \u001b[31m89.8 MB/s\u001b[0m eta \u001b[36m0:00:00\u001b[0m\n",
            "\u001b[?25hRequirement already satisfied: tornado<7,>=6.0.3 in /usr/local/lib/python3.10/dist-packages (from streamlit>=1.13.0->trulens-eval) (6.3.2)\n",
            "Collecting watchdog>=2.1.5 (from streamlit>=1.13.0->trulens-eval)\n",
            "  Downloading watchdog-3.0.0-py3-none-manylinux2014_x86_64.whl (82 kB)\n",
            "\u001b[2K     \u001b[90m━━━━━━━━━━━━━━━━━━━━━━━━━━━━━━━━━━━━━━━━\u001b[0m \u001b[32m82.1/82.1 kB\u001b[0m \u001b[31m9.5 MB/s\u001b[0m eta \u001b[36m0:00:00\u001b[0m\n",
            "\u001b[?25hCollecting python-decouple<4.0,>=3.6 (from streamlit-aggrid>=0.3.4.post3->trulens-eval)\n",
            "  Downloading python_decouple-3.8-py3-none-any.whl (9.9 kB)\n",
            "Collecting htbuilder==0.6.1 (from streamlit-extras>=0.2.7->trulens-eval)\n",
            "  Downloading htbuilder-0.6.1.tar.gz (10 kB)\n",
            "  Preparing metadata (setup.py) ... \u001b[?25l\u001b[?25hdone\n",
            "Collecting markdownlit>=0.0.5 (from streamlit-extras>=0.2.7->trulens-eval)\n",
            "  Downloading markdownlit-0.0.7-py3-none-any.whl (15 kB)\n",
            "Collecting st-annotated-text>=3.0.0 (from streamlit-extras>=0.2.7->trulens-eval)\n",
            "  Downloading st-annotated-text-4.0.0.tar.gz (7.8 kB)\n",
            "  Preparing metadata (setup.py) ... \u001b[?25l\u001b[?25hdone\n",
            "Collecting streamlit-camera-input-live>=0.2.0 (from streamlit-extras>=0.2.7->trulens-eval)\n",
            "  Downloading streamlit_camera_input_live-0.2.0-py3-none-any.whl (6.6 kB)\n",
            "Collecting streamlit-card>=0.0.4 (from streamlit-extras>=0.2.7->trulens-eval)\n",
            "  Downloading streamlit_card-0.0.61-py3-none-any.whl (680 kB)\n",
            "\u001b[2K     \u001b[90m━━━━━━━━━━━━━━━━━━━━━━━━━━━━━━━━━━━━━━\u001b[0m \u001b[32m680.5/680.5 kB\u001b[0m \u001b[31m52.3 MB/s\u001b[0m eta \u001b[36m0:00:00\u001b[0m\n",
            "\u001b[?25hCollecting streamlit-embedcode>=0.1.2 (from streamlit-extras>=0.2.7->trulens-eval)\n",
            "  Downloading streamlit_embedcode-0.1.2-py3-none-any.whl (3.5 kB)\n",
            "Collecting streamlit-faker>=0.0.2 (from streamlit-extras>=0.2.7->trulens-eval)\n",
            "  Downloading streamlit_faker-0.0.2-py3-none-any.whl (9.8 kB)\n",
            "Collecting streamlit-image-coordinates<0.2.0,>=0.1.1 (from streamlit-extras>=0.2.7->trulens-eval)\n",
            "  Downloading streamlit_image_coordinates-0.1.6-py3-none-any.whl (6.3 kB)\n",
            "Collecting streamlit-keyup>=0.1.9 (from streamlit-extras>=0.2.7->trulens-eval)\n",
            "  Downloading streamlit_keyup-0.2.0-py3-none-any.whl (7.4 kB)\n",
            "Collecting streamlit-toggle-switch>=1.0.2 (from streamlit-extras>=0.2.7->trulens-eval)\n",
            "  Downloading streamlit_toggle_switch-1.0.2-py3-none-any.whl (635 kB)\n",
            "\u001b[2K     \u001b[90m━━━━━━━━━━━━━━━━━━━━━━━━━━━━━━━━━━━━━━\u001b[0m \u001b[32m635.4/635.4 kB\u001b[0m \u001b[31m41.4 MB/s\u001b[0m eta \u001b[36m0:00:00\u001b[0m\n",
            "\u001b[?25hCollecting streamlit-vertical-slider>=1.0.2 (from streamlit-extras>=0.2.7->trulens-eval)\n",
            "  Downloading streamlit_vertical_slider-1.0.2-py3-none-any.whl (624 kB)\n",
            "\u001b[2K     \u001b[90m━━━━━━━━━━━━━━━━━━━━━━━━━━━━━━━━━━━━━━\u001b[0m \u001b[32m624.3/624.3 kB\u001b[0m \u001b[31m51.2 MB/s\u001b[0m eta \u001b[36m0:00:00\u001b[0m\n",
            "\u001b[?25hRequirement already satisfied: more-itertools in /usr/local/lib/python3.10/dist-packages (from htbuilder==0.6.1->streamlit-extras>=0.2.7->trulens-eval) (10.1.0)\n",
            "Requirement already satisfied: filelock in /usr/local/lib/python3.10/dist-packages (from transformers>=4.10.0->trulens-eval) (3.12.2)\n",
            "Requirement already satisfied: regex!=2019.12.17 in /usr/local/lib/python3.10/dist-packages (from transformers>=4.10.0->trulens-eval) (2023.6.3)\n",
            "Collecting tokenizers!=0.11.3,<0.14,>=0.11.1 (from transformers>=4.10.0->trulens-eval)\n",
            "  Downloading tokenizers-0.13.3-cp310-cp310-manylinux_2_17_x86_64.manylinux2014_x86_64.whl (7.8 MB)\n",
            "\u001b[2K     \u001b[90m━━━━━━━━━━━━━━━━━━━━━━━━━━━━━━━━━━━━━━━━\u001b[0m \u001b[32m7.8/7.8 MB\u001b[0m \u001b[31m72.0 MB/s\u001b[0m eta \u001b[36m0:00:00\u001b[0m\n",
            "\u001b[?25hCollecting safetensors>=0.3.1 (from transformers>=4.10.0->trulens-eval)\n",
            "  Downloading safetensors-0.3.3-cp310-cp310-manylinux_2_17_x86_64.manylinux2014_x86_64.whl (1.3 MB)\n",
            "\u001b[2K     \u001b[90m━━━━━━━━━━━━━━━━━━━━━━━━━━━━━━━━━━━━━━━━\u001b[0m \u001b[32m1.3/1.3 MB\u001b[0m \u001b[31m68.1 MB/s\u001b[0m eta \u001b[36m0:00:00\u001b[0m\n",
            "\u001b[?25hRequirement already satisfied: attrs>=17.3.0 in /usr/local/lib/python3.10/dist-packages (from aiohttp<4.0,>=3.0->cohere>=4.4.1->trulens-eval) (23.1.0)\n",
            "Requirement already satisfied: multidict<7.0,>=4.5 in /usr/local/lib/python3.10/dist-packages (from aiohttp<4.0,>=3.0->cohere>=4.4.1->trulens-eval) (6.0.4)\n",
            "Requirement already satisfied: yarl<2.0,>=1.0 in /usr/local/lib/python3.10/dist-packages (from aiohttp<4.0,>=3.0->cohere>=4.4.1->trulens-eval) (1.9.2)\n",
            "Requirement already satisfied: frozenlist>=1.1.1 in /usr/local/lib/python3.10/dist-packages (from aiohttp<4.0,>=3.0->cohere>=4.4.1->trulens-eval) (1.4.0)\n",
            "Requirement already satisfied: aiosignal>=1.1.2 in /usr/local/lib/python3.10/dist-packages (from aiohttp<4.0,>=3.0->cohere>=4.4.1->trulens-eval) (1.3.1)\n",
            "Requirement already satisfied: entrypoints in /usr/local/lib/python3.10/dist-packages (from altair<6,>=4.0->streamlit>=1.13.0->trulens-eval) (0.4)\n",
            "Requirement already satisfied: jinja2 in /usr/local/lib/python3.10/dist-packages (from altair<6,>=4.0->streamlit>=1.13.0->trulens-eval) (3.1.2)\n",
            "Requirement already satisfied: jsonschema>=3.0 in /usr/local/lib/python3.10/dist-packages (from altair<6,>=4.0->streamlit>=1.13.0->trulens-eval) (4.19.0)\n",
            "Requirement already satisfied: toolz in /usr/local/lib/python3.10/dist-packages (from altair<6,>=4.0->streamlit>=1.13.0->trulens-eval) (0.12.0)\n",
            "Collecting marshmallow<4.0.0,>=3.18.0 (from dataclasses-json<0.6.0,>=0.5.7->langchain>=0.0.230->trulens-eval)\n",
            "  Downloading marshmallow-3.20.1-py3-none-any.whl (49 kB)\n",
            "\u001b[2K     \u001b[90m━━━━━━━━━━━━━━━━━━━━━━━━━━━━━━━━━━━━━━━━\u001b[0m \u001b[32m49.4/49.4 kB\u001b[0m \u001b[31m5.6 MB/s\u001b[0m eta \u001b[36m0:00:00\u001b[0m\n",
            "\u001b[?25hCollecting gitdb<5,>=4.0.1 (from gitpython!=3.1.19,<4,>=3.0.7->streamlit>=1.13.0->trulens-eval)\n",
            "  Downloading gitdb-4.0.10-py3-none-any.whl (62 kB)\n",
            "\u001b[2K     \u001b[90m━━━━━━━━━━━━━━━━━━━━━━━━━━━━━━━━━━━━━━━━\u001b[0m \u001b[32m62.7/62.7 kB\u001b[0m \u001b[31m6.9 MB/s\u001b[0m eta \u001b[36m0:00:00\u001b[0m\n",
            "\u001b[?25hRequirement already satisfied: zipp>=0.5 in /usr/local/lib/python3.10/dist-packages (from importlib_metadata<7.0,>=6.0->cohere>=4.4.1->trulens-eval) (3.16.2)\n",
            "Requirement already satisfied: setuptools>=18.5 in /usr/local/lib/python3.10/dist-packages (from ipython>=6.1.0->ipywidgets>=8.0.6->trulens-eval) (67.7.2)\n",
            "Collecting jedi>=0.16 (from ipython>=6.1.0->ipywidgets>=8.0.6->trulens-eval)\n",
            "  Downloading jedi-0.19.0-py2.py3-none-any.whl (1.6 MB)\n",
            "\u001b[2K     \u001b[90m━━━━━━━━━━━━━━━━━━━━━━━━━━━━━━━━━━━━━━━━\u001b[0m \u001b[32m1.6/1.6 MB\u001b[0m \u001b[31m77.1 MB/s\u001b[0m eta \u001b[36m0:00:00\u001b[0m\n",
            "\u001b[?25hRequirement already satisfied: decorator in /usr/local/lib/python3.10/dist-packages (from ipython>=6.1.0->ipywidgets>=8.0.6->trulens-eval) (4.4.2)\n",
            "Requirement already satisfied: pickleshare in /usr/local/lib/python3.10/dist-packages (from ipython>=6.1.0->ipywidgets>=8.0.6->trulens-eval) (0.7.5)\n",
            "Requirement already satisfied: prompt-toolkit!=3.0.0,!=3.0.1,<3.1.0,>=2.0.0 in /usr/local/lib/python3.10/dist-packages (from ipython>=6.1.0->ipywidgets>=8.0.6->trulens-eval) (3.0.39)\n",
            "Requirement already satisfied: pygments in /usr/local/lib/python3.10/dist-packages (from ipython>=6.1.0->ipywidgets>=8.0.6->trulens-eval) (2.16.1)\n",
            "Requirement already satisfied: backcall in /usr/local/lib/python3.10/dist-packages (from ipython>=6.1.0->ipywidgets>=8.0.6->trulens-eval) (0.2.0)\n",
            "Requirement already satisfied: matplotlib-inline in /usr/local/lib/python3.10/dist-packages (from ipython>=6.1.0->ipywidgets>=8.0.6->trulens-eval) (0.1.6)\n",
            "Requirement already satisfied: pexpect>4.3 in /usr/local/lib/python3.10/dist-packages (from ipython>=6.1.0->ipywidgets>=8.0.6->trulens-eval) (4.8.0)\n",
            "Requirement already satisfied: markdown in /usr/local/lib/python3.10/dist-packages (from markdownlit>=0.0.5->streamlit-extras>=0.2.7->trulens-eval) (3.4.4)\n",
            "Requirement already satisfied: lxml in /usr/local/lib/python3.10/dist-packages (from markdownlit>=0.0.5->streamlit-extras>=0.2.7->trulens-eval) (4.9.3)\n",
            "Collecting favicon (from markdownlit>=0.0.5->streamlit-extras>=0.2.7->trulens-eval)\n",
            "  Downloading favicon-0.7.0-py2.py3-none-any.whl (5.9 kB)\n",
            "Collecting pymdown-extensions (from markdownlit>=0.0.5->streamlit-extras>=0.2.7->trulens-eval)\n",
            "  Downloading pymdown_extensions-10.1-py3-none-any.whl (240 kB)\n",
            "\u001b[2K     \u001b[90m━━━━━━━━━━━━━━━━━━━━━━━━━━━━━━━━━━━━━━\u001b[0m \u001b[32m240.8/240.8 kB\u001b[0m \u001b[31m25.5 MB/s\u001b[0m eta \u001b[36m0:00:00\u001b[0m\n",
            "\u001b[?25hRequirement already satisfied: pytz>=2020.1 in /usr/local/lib/python3.10/dist-packages (from pandas->datasets>=2.12.0->trulens-eval) (2023.3)\n",
            "Requirement already satisfied: markdown-it-py>=2.2.0 in /usr/local/lib/python3.10/dist-packages (from rich<14,>=10.14.0->streamlit>=1.13.0->trulens-eval) (3.0.0)\n",
            "Collecting faker (from streamlit-faker>=0.0.2->streamlit-extras>=0.2.7->trulens-eval)\n",
            "  Downloading Faker-19.3.1-py3-none-any.whl (1.7 MB)\n",
            "\u001b[2K     \u001b[90m━━━━━━━━━━━━━━━━━━━━━━━━━━━━━━━━━━━━━━━━\u001b[0m \u001b[32m1.7/1.7 MB\u001b[0m \u001b[31m57.0 MB/s\u001b[0m eta \u001b[36m0:00:00\u001b[0m\n",
            "\u001b[?25hRequirement already satisfied: matplotlib in /usr/local/lib/python3.10/dist-packages (from streamlit-faker>=0.0.2->streamlit-extras>=0.2.7->trulens-eval) (3.7.1)\n",
            "Collecting pytz-deprecation-shim (from tzlocal<5,>=1.1->streamlit>=1.13.0->trulens-eval)\n",
            "  Downloading pytz_deprecation_shim-0.1.0.post0-py2.py3-none-any.whl (15 kB)\n",
            "Requirement already satisfied: soupsieve>1.2 in /usr/local/lib/python3.10/dist-packages (from beautifulsoup4->llama-index>=0.8.3->trulens-eval) (2.4.1)\n",
            "Requirement already satisfied: webencodings in /usr/local/lib/python3.10/dist-packages (from bleach->kaggle>=1.5.13->trulens-eval) (0.5.1)\n",
            "Requirement already satisfied: MarkupSafe>=0.9.2 in /usr/local/lib/python3.10/dist-packages (from Mako->alembic>=1.11.2->trulens-eval) (2.1.3)\n",
            "Requirement already satisfied: text-unidecode>=1.3 in /usr/local/lib/python3.10/dist-packages (from python-slugify->kaggle>=1.5.13->trulens-eval) (1.3)\n",
            "Collecting smmap<6,>=3.0.1 (from gitdb<5,>=4.0.1->gitpython!=3.1.19,<4,>=3.0.7->streamlit>=1.13.0->trulens-eval)\n",
            "  Downloading smmap-5.0.0-py3-none-any.whl (24 kB)\n",
            "Requirement already satisfied: parso<0.9.0,>=0.8.3 in /usr/local/lib/python3.10/dist-packages (from jedi>=0.16->ipython>=6.1.0->ipywidgets>=8.0.6->trulens-eval) (0.8.3)\n",
            "Requirement already satisfied: jsonschema-specifications>=2023.03.6 in /usr/local/lib/python3.10/dist-packages (from jsonschema>=3.0->altair<6,>=4.0->streamlit>=1.13.0->trulens-eval) (2023.7.1)\n",
            "Requirement already satisfied: referencing>=0.28.4 in /usr/local/lib/python3.10/dist-packages (from jsonschema>=3.0->altair<6,>=4.0->streamlit>=1.13.0->trulens-eval) (0.30.2)\n",
            "Requirement already satisfied: rpds-py>=0.7.1 in /usr/local/lib/python3.10/dist-packages (from jsonschema>=3.0->altair<6,>=4.0->streamlit>=1.13.0->trulens-eval) (0.9.2)\n",
            "Requirement already satisfied: mdurl~=0.1 in /usr/local/lib/python3.10/dist-packages (from markdown-it-py>=2.2.0->rich<14,>=10.14.0->streamlit>=1.13.0->trulens-eval) (0.1.2)\n",
            "Requirement already satisfied: ptyprocess>=0.5 in /usr/local/lib/python3.10/dist-packages (from pexpect>4.3->ipython>=6.1.0->ipywidgets>=8.0.6->trulens-eval) (0.7.0)\n",
            "Requirement already satisfied: wcwidth in /usr/local/lib/python3.10/dist-packages (from prompt-toolkit!=3.0.0,!=3.0.1,<3.1.0,>=2.0.0->ipython>=6.1.0->ipywidgets>=8.0.6->trulens-eval) (0.2.6)\n",
            "Requirement already satisfied: contourpy>=1.0.1 in /usr/local/lib/python3.10/dist-packages (from matplotlib->streamlit-faker>=0.0.2->streamlit-extras>=0.2.7->trulens-eval) (1.1.0)\n",
            "Requirement already satisfied: cycler>=0.10 in /usr/local/lib/python3.10/dist-packages (from matplotlib->streamlit-faker>=0.0.2->streamlit-extras>=0.2.7->trulens-eval) (0.11.0)\n",
            "Requirement already satisfied: fonttools>=4.22.0 in /usr/local/lib/python3.10/dist-packages (from matplotlib->streamlit-faker>=0.0.2->streamlit-extras>=0.2.7->trulens-eval) (4.42.0)\n",
            "Requirement already satisfied: kiwisolver>=1.0.1 in /usr/local/lib/python3.10/dist-packages (from matplotlib->streamlit-faker>=0.0.2->streamlit-extras>=0.2.7->trulens-eval) (1.4.4)\n",
            "Requirement already satisfied: pyparsing>=2.3.1 in /usr/local/lib/python3.10/dist-packages (from matplotlib->streamlit-faker>=0.0.2->streamlit-extras>=0.2.7->trulens-eval) (3.1.1)\n",
            "Collecting tzdata (from pytz-deprecation-shim->tzlocal<5,>=1.1->streamlit>=1.13.0->trulens-eval)\n",
            "  Downloading tzdata-2023.3-py2.py3-none-any.whl (341 kB)\n",
            "\u001b[2K     \u001b[90m━━━━━━━━━━━━━━━━━━━━━━━━━━━━━━━━━━━━━━\u001b[0m \u001b[32m341.8/341.8 kB\u001b[0m \u001b[31m28.7 MB/s\u001b[0m eta \u001b[36m0:00:00\u001b[0m\n",
            "\u001b[?25hRequirement already satisfied: googleapis-common-protos<2.0.dev0,>=1.56.2 in /usr/local/lib/python3.10/dist-packages (from google-api-core<3.0.0,>=2.11.1->langchain>=0.0.230->trulens-eval) (1.60.0)\n",
            "Requirement already satisfied: google-auth<3.0.dev0,>=2.14.1 in /usr/local/lib/python3.10/dist-packages (from google-api-core<3.0.0,>=2.11.1->langchain>=0.0.230->trulens-eval) (2.17.3)\n",
            "Requirement already satisfied: pyasn1-modules>=0.2.1 in /usr/local/lib/python3.10/dist-packages (from google-auth<3.0.dev0,>=2.14.1->google-api-core<3.0.0,>=2.11.1->langchain>=0.0.230->trulens-eval) (0.3.0)\n",
            "Requirement already satisfied: rsa<5,>=3.1.4 in /usr/local/lib/python3.10/dist-packages (from google-auth<3.0.dev0,>=2.14.1->google-api-core<3.0.0,>=2.11.1->langchain>=0.0.230->trulens-eval) (4.9)\n",
            "Requirement already satisfied: pyasn1<0.6.0,>=0.4.6 in /usr/local/lib/python3.10/dist-packages (from pyasn1-modules>=0.2.1->google-auth<3.0.dev0,>=2.14.1->google-api-core<3.0.0,>=2.11.1->langchain>=0.0.230->trulens-eval) (0.5.0)\n",
            "Building wheels for collected packages: millify, htbuilder, st-annotated-text\n",
            "  Building wheel for millify (setup.py) ... \u001b[?25l\u001b[?25hdone\n",
            "  Created wheel for millify: filename=millify-0.1.1-py3-none-any.whl size=1843 sha256=3e811a1d3be29d655baff9c386bef2fdfccc292c213abd984a39bbd8595e54cd\n",
            "  Stored in directory: /root/.cache/pip/wheels/67/8f/53/2759feac2e247ce89c1165c3ff12d484de7714a875ea3464f0\n",
            "  Building wheel for htbuilder (setup.py) ... \u001b[?25l\u001b[?25hdone\n",
            "  Created wheel for htbuilder: filename=htbuilder-0.6.1-py3-none-any.whl size=12440 sha256=120b0cdddd74e2b3537823224c4533bdbf462e093da939991e62e310b7f5e933\n",
            "  Stored in directory: /root/.cache/pip/wheels/12/d3/e9/e499c6b18281f756e41e385735cf3ea6980baf126f093b0ba1\n",
            "  Building wheel for st-annotated-text (setup.py) ... \u001b[?25l\u001b[?25hdone\n",
            "  Created wheel for st-annotated-text: filename=st_annotated_text-4.0.0-py3-none-any.whl size=8905 sha256=b182728e692e1374e6896808c3a3b7b8e3742c170b4e5f1121a38c8ed0e96e88\n",
            "  Stored in directory: /root/.cache/pip/wheels/75/24/e8/1c0562e6308f0fff00c6f25972c0bf0a78fbf2be2dc65ef148\n",
            "Successfully built millify htbuilder st-annotated-text\n",
            "Installing collected packages: tokenizers, safetensors, python-decouple, millify, xxhash, widgetsnbextension, watchdog, validators, urllib3, tzdata, typing-extensions, smmap, slack-sdk, python-dotenv, pympler, pymdown-extensions, mypy-extensions, munch, merkle-json, marshmallow, Mako, loguru, jedi, htbuilder, fastavro, dnspython, dill, comm, backoff, typing-inspect, st-annotated-text, slack-bolt, pytz-deprecation-shim, pydeck, pydantic, multiprocess, gitdb, faker, tzlocal, tiktoken, pinecone-client, openapi-schema-pydantic, openai, langsmith, ipywidgets, huggingface-hub, gitpython, favicon, dataclasses-json, cohere, alembic, transformers, langchain, datasets, streamlit, llama-index, streamlit-vertical-slider, streamlit-toggle-switch, streamlit-keyup, streamlit-javascript, streamlit-image-coordinates, streamlit-embedcode, streamlit-card, streamlit-camera-input-live, streamlit-aggrid, streamlit-faker, markdownlit, streamlit-extras, trulens-eval\n",
            "  Attempting uninstall: widgetsnbextension\n",
            "    Found existing installation: widgetsnbextension 3.6.5\n",
            "    Uninstalling widgetsnbextension-3.6.5:\n",
            "      Successfully uninstalled widgetsnbextension-3.6.5\n",
            "  Attempting uninstall: urllib3\n",
            "    Found existing installation: urllib3 2.0.4\n",
            "    Uninstalling urllib3-2.0.4:\n",
            "      Successfully uninstalled urllib3-2.0.4\n",
            "  Attempting uninstall: typing-extensions\n",
            "    Found existing installation: typing_extensions 4.7.1\n",
            "    Uninstalling typing_extensions-4.7.1:\n",
            "      Successfully uninstalled typing_extensions-4.7.1\n",
            "  Attempting uninstall: pydantic\n",
            "    Found existing installation: pydantic 2.2.0\n",
            "    Uninstalling pydantic-2.2.0:\n",
            "      Successfully uninstalled pydantic-2.2.0\n",
            "  Attempting uninstall: tzlocal\n",
            "    Found existing installation: tzlocal 5.0.1\n",
            "    Uninstalling tzlocal-5.0.1:\n",
            "      Successfully uninstalled tzlocal-5.0.1\n",
            "  Attempting uninstall: ipywidgets\n",
            "    Found existing installation: ipywidgets 7.7.1\n",
            "    Uninstalling ipywidgets-7.7.1:\n",
            "      Successfully uninstalled ipywidgets-7.7.1\n",
            "\u001b[31mERROR: pip's dependency resolver does not currently take into account all the packages that are installed. This behaviour is the source of the following dependency conflicts.\n",
            "pydantic-core 2.6.0 requires typing-extensions!=4.7.0,>=4.6.0, but you have typing-extensions 4.5.0 which is incompatible.\u001b[0m\u001b[31m\n",
            "\u001b[0mSuccessfully installed Mako-1.2.4 alembic-1.11.3 backoff-2.2.1 cohere-4.21 comm-0.1.4 dataclasses-json-0.5.14 datasets-2.14.4 dill-0.3.7 dnspython-2.4.2 faker-19.3.1 fastavro-1.8.2 favicon-0.7.0 gitdb-4.0.10 gitpython-3.1.32 htbuilder-0.6.1 huggingface-hub-0.16.4 ipywidgets-8.1.0 jedi-0.19.0 langchain-0.0.266 langsmith-0.0.26 llama-index-0.8.8 loguru-0.7.0 markdownlit-0.0.7 marshmallow-3.20.1 merkle-json-1.0.0 millify-0.1.1 multiprocess-0.70.15 munch-4.0.0 mypy-extensions-1.0.0 openai-0.27.9 openapi-schema-pydantic-1.2.4 pinecone-client-2.2.2 pydantic-1.10.12 pydeck-0.8.0 pymdown-extensions-10.1 pympler-1.0.1 python-decouple-3.8 python-dotenv-1.0.0 pytz-deprecation-shim-0.1.0.post0 safetensors-0.3.3 slack-bolt-1.18.0 slack-sdk-3.21.3 smmap-5.0.0 st-annotated-text-4.0.0 streamlit-1.26.0 streamlit-aggrid-0.3.4.post3 streamlit-camera-input-live-0.2.0 streamlit-card-0.0.61 streamlit-embedcode-0.1.2 streamlit-extras-0.3.0 streamlit-faker-0.0.2 streamlit-image-coordinates-0.1.6 streamlit-javascript-0.1.5 streamlit-keyup-0.2.0 streamlit-toggle-switch-1.0.2 streamlit-vertical-slider-1.0.2 tiktoken-0.4.0 tokenizers-0.13.3 transformers-4.32.0 trulens-eval-0.10.0 typing-extensions-4.5.0 typing-inspect-0.8.0 tzdata-2023.3 tzlocal-4.3.1 urllib3-1.26.16 validators-0.21.2 watchdog-3.0.0 widgetsnbextension-4.0.8 xxhash-3.3.0\n",
            "\u001b[K\u001b[?25h\u001b[37;40mnpm\u001b[0m \u001b[0m\u001b[30;43mWARN\u001b[0m \u001b[0m\u001b[35msaveError\u001b[0m ENOENT: no such file or directory, open '/content/package.json'\n",
            "\u001b[0m\u001b[37;40mnpm\u001b[0m \u001b[0m\u001b[30;43mWARN\u001b[0m \u001b[0m\u001b[35menoent\u001b[0m ENOENT: no such file or directory, open '/content/package.json'\n",
            "\u001b[0m\u001b[37;40mnpm\u001b[0m \u001b[0m\u001b[30;43mWARN\u001b[0m\u001b[35m\u001b[0m content No description\n",
            "\u001b[0m\u001b[37;40mnpm\u001b[0m \u001b[0m\u001b[30;43mWARN\u001b[0m\u001b[35m\u001b[0m content No repository field.\n",
            "\u001b[0m\u001b[37;40mnpm\u001b[0m \u001b[0m\u001b[30;43mWARN\u001b[0m\u001b[35m\u001b[0m content No README data\n",
            "\u001b[0m\u001b[37;40mnpm\u001b[0m \u001b[0m\u001b[30;43mWARN\u001b[0m\u001b[35m\u001b[0m content No license field.\n",
            "\u001b[0m\n",
            "+ localtunnel@2.0.2\n",
            "added 22 packages from 22 contributors and audited 22 packages in 1.793s\n",
            "\n",
            "3 packages are looking for funding\n",
            "  run `npm fund` for details\n",
            "\n",
            "found \u001b[92m0\u001b[0m vulnerabilities\n",
            "\n",
            "\u001b[2K     \u001b[90m━━━━━━━━━━━━━━━━━━━━━━━━━━━━━━━━━━━━━━━━\u001b[0m \u001b[32m9.2/9.2 MB\u001b[0m \u001b[31m20.9 MB/s\u001b[0m eta \u001b[36m0:00:00\u001b[0m\n",
            "\u001b[?25h"
          ]
        }
      ],
      "source": [
        "!pip install -U trulens-eval\n",
        "\n",
        "# Google Colab Dependencies\n",
        "!npm install localtunnel -q\n",
        "!pip install -q streamlit==1.13.0"
      ],
      "id": "mbZNKt7PdKY9"
    },
    {
      "cell_type": "markdown",
      "metadata": {
        "id": "gDxHY0LBdKZA"
      },
      "source": [
        "# Langchain Quickstart\n",
        "\n",
        "In this quickstart you will create a simple LLM Chain and learn how to log it and get feedback on an LLM response.\n",
        "\n",
        "[![Open In Colab](https://colab.research.google.com/assets/colab-badge.svg)](https://colab.research.google.com/github/truera/trulens/blob/main/trulens_eval/examples/langchain_quickstart.ipynb)"
      ],
      "id": "gDxHY0LBdKZA"
    },
    {
      "cell_type": "markdown",
      "metadata": {
        "id": "2mJWzTIwdKZC"
      },
      "source": [
        "## Setup\n",
        "### Add API keys\n",
        "For this quickstart you will need Open AI and Huggingface keys"
      ],
      "id": "2mJWzTIwdKZC"
    },
    {
      "cell_type": "markdown",
      "source": [
        "- *os* module provides functions for interacting with the operating system"
      ],
      "metadata": {
        "id": "fzzMtzJGfVow"
      },
      "id": "fzzMtzJGfVow"
    },
    {
      "cell_type": "markdown",
      "source": [
        "- set two environment variables, OPENAI_API_KEY and HUGGINGFACE_API_KEY\n",
        "\n",
        "What is environment variable?\n",
        "\n",
        "Environment variables are a way to store data that can be accessed by any program running on the system. In this case, the environment variables are storing your API keys for OpenAI and Huggingface, which are two natural language processing APIs."
      ],
      "metadata": {
        "id": "KQRVvWMmfsjt"
      },
      "id": "KQRVvWMmfsjt"
    },
    {
      "cell_type": "code",
      "execution_count": null,
      "metadata": {
        "id": "gPvl4UCFdKZC"
      },
      "outputs": [],
      "source": [
        "import os\n",
        "os.environ[\"OPENAI_API_KEY\"] = \"...\"\n",
        "os.environ[\"HUGGINGFACE_API_KEY\"] = \"...\""
      ],
      "id": "gPvl4UCFdKZC"
    },
    {
      "cell_type": "markdown",
      "metadata": {
        "id": "M7UIAnBUdKZD"
      },
      "source": [
        "### Import from LangChain and TruLens"
      ],
      "id": "M7UIAnBUdKZD"
    },
    {
      "cell_type": "markdown",
      "source": [
        "- **IPython.display module** provides functions for displaying data in IPython notebooks\n",
        "- **trulens_eval module** provides functions for evaluating the performance of language models.\n",
        "- trulens_eval module also includes a class called **TruChain**, which represents a language model chain\n",
        "-  The Feedback class is used to collect feedback from users about the performance of a language model chain.\n",
        "- The Huggingface class is used to interact with the Huggingface API.\n",
        "- The Tru class is a helper class that provides some utility functions.\n",
        "- The LLMChain class represents a language model chain that uses an LLM (large language model) as its underlying model.\n",
        "- The OpenAI class is a subclass of LLM that represents an OpenAI LLM.\n",
        "- The ChatPromptTemplate class is a class that represents a chat prompt template.\n",
        "- The HumanMessagePromptTemplate class is a subclass of ChatPromptTemplate that represents a chat prompt template that expects a human message as input."
      ],
      "metadata": {
        "id": "W6WyC0drgfDZ"
      },
      "id": "W6WyC0drgfDZ"
    },
    {
      "cell_type": "code",
      "execution_count": null,
      "metadata": {
        "id": "s1-Is6i7dKZD"
      },
      "outputs": [],
      "source": [
        "from IPython.display import JSON\n",
        "\n",
        "# Imports main tools:\n",
        "from trulens_eval import TruChain, Feedback, Huggingface, Tru\n",
        "tru = Tru()\n",
        "\n",
        "# Imports from langchain to build app. You may need to install langchain first\n",
        "# with the following:\n",
        "# ! pip install langchain>=0.0.170\n",
        "from langchain.chains import LLMChain\n",
        "from langchain.llms import OpenAI\n",
        "from langchain.prompts.chat import ChatPromptTemplate, PromptTemplate\n",
        "from langchain.prompts.chat import HumanMessagePromptTemplate"
      ],
      "id": "s1-Is6i7dKZD"
    },
    {
      "cell_type": "markdown",
      "metadata": {
        "id": "k38PBciodKZD"
      },
      "source": [
        "### Create Simple LLM Application\n",
        "\n",
        "This example uses a LangChain framework and OpenAI LLM"
      ],
      "id": "k38PBciodKZD"
    },
    {
      "cell_type": "code",
      "execution_count": null,
      "metadata": {
        "id": "8Wk5jQ45dKZE"
      },
      "outputs": [],
      "source": [
        "#We first create a HumanMessagePromptTemplate object, which represents a chat prompt template that expects a human message as input.\n",
        "\n",
        "full_prompt = HumanMessagePromptTemplate(\n",
        "    prompt=PromptTemplate(\n",
        "        template=\n",
        "        \"Provide a helpful response with relevant background information for the following: {prompt}\",  #The {prompt} placeholder is used to indicate where the human message will be inserted.\n",
        "        input_variables=[\"prompt\"],\n",
        "    )\n",
        ")\n",
        "\n",
        "# Next, we create a ChatPromptTemplate object from the HumanMessagePromptTemplate object, which represents a chat prompt that can be used with a language model chain.\n",
        "chat_prompt_template = ChatPromptTemplate.from_messages([full_prompt])\n",
        "\n",
        "# Finally, we create an OpenAI object and an LLMChain object\n",
        "llm = OpenAI(temperature=0.9, max_tokens=128) #The OpenAI object represents an OpenAI LLM (large language model)\n",
        "\n",
        "#The LLMChain object represents a language model chain that uses an LLM as its underlying model.\n",
        "\n",
        "chain = LLMChain(llm=llm, prompt=chat_prompt_template, verbose=True)\n",
        "\n",
        "#The LLMChain object is initialized with the llm object, the chat_prompt_template object, and the verbose flag. The verbose flag is set to True to indicate that the chain should print debugging information."
      ],
      "id": "8Wk5jQ45dKZE"
    },
    {
      "cell_type": "markdown",
      "metadata": {
        "id": "UY90oWoEdKZE"
      },
      "source": [
        "### Send your first request"
      ],
      "id": "UY90oWoEdKZE"
    },
    {
      "cell_type": "code",
      "execution_count": null,
      "metadata": {
        "id": "68VGKIKtdKZE"
      },
      "outputs": [],
      "source": [
        "prompt_input = '¿que hora es?'"
      ],
      "id": "68VGKIKtdKZE"
    },
    {
      "cell_type": "code",
      "execution_count": null,
      "metadata": {
        "id": "huTxhI2HdKZF"
      },
      "outputs": [],
      "source": [
        "llm_response = chain(prompt_input)\n",
        "\n",
        "display(llm_response)"
      ],
      "id": "huTxhI2HdKZF"
    },
    {
      "cell_type": "markdown",
      "metadata": {
        "id": "k7RIUJ3ndKZF"
      },
      "source": [
        "## Initialize Feedback Function(s)"
      ],
      "id": "k7RIUJ3ndKZF"
    },
    {
      "cell_type": "code",
      "execution_count": null,
      "metadata": {
        "id": "3cvHP9QgdKZF"
      },
      "outputs": [],
      "source": [
        "# Initialize Huggingface-based feedback function collection class:\n",
        "hugs = Huggingface()\n",
        "\n",
        "# Define a language match feedback function using HuggingFace.\n",
        "\n",
        "#READ THE DOC AT THIS POINT AND EXPLAIN HOW LANGUAGE MATCH HAPPENS ON INPUT AND OUTPUT\n",
        "\n",
        "f_lang_match = Feedback(hugs.language_match).on_input_output()\n",
        "# By default this will check language match on the main app input and main app\n",
        "# output."
      ],
      "id": "3cvHP9QgdKZF"
    },
    {
      "cell_type": "markdown",
      "metadata": {
        "id": "uKPYfg71dKZF"
      },
      "source": [
        "## Instrument chain for logging with TruLens"
      ],
      "id": "uKPYfg71dKZF"
    },
    {
      "cell_type": "code",
      "execution_count": null,
      "metadata": {
        "id": "lbp7V1t5dKZF"
      },
      "outputs": [],
      "source": [
        "truchain = TruChain(chain,\n",
        "    app_id='Chain1_ChatApplication',\n",
        "    feedbacks=[f_lang_match],\n",
        "    tags = \"prototype\")"
      ],
      "id": "lbp7V1t5dKZF"
    },
    {
      "cell_type": "code",
      "execution_count": null,
      "metadata": {
        "id": "pZqaXyE4dKZF"
      },
      "outputs": [],
      "source": [
        "# Instrumented chain can operate like the original:\n",
        "llm_response = truchain(prompt_input)\n",
        "\n",
        "display(llm_response)"
      ],
      "id": "pZqaXyE4dKZF"
    },
    {
      "cell_type": "markdown",
      "metadata": {
        "id": "pUB0gzYIdKZG"
      },
      "source": [
        "## Explore in a Dashboard"
      ],
      "id": "pUB0gzYIdKZG"
    },
    {
      "cell_type": "code",
      "execution_count": null,
      "metadata": {
        "id": "q2GoYAkIdKZG"
      },
      "outputs": [],
      "source": [
        "tru.run_dashboard() # open a local streamlit app to explore\n",
        "\n",
        "# tru.stop_dashboard() # stop if needed"
      ],
      "id": "q2GoYAkIdKZG"
    },
    {
      "cell_type": "markdown",
      "metadata": {
        "id": "A3ke0RJwdKZG"
      },
      "source": [
        "Alternatively, you can run `trulens-eval` from a command line in the same folder to start the dashboard."
      ],
      "id": "A3ke0RJwdKZG"
    },
    {
      "cell_type": "markdown",
      "metadata": {
        "id": "4u8HQjipdKZG"
      },
      "source": [
        "### Chain Leaderboard\n",
        "\n",
        "Understand how your LLM application is performing at a glance. Once you've set up logging and evaluation in your application, you can view key performance statistics including cost and average feedback value across all of your LLM apps using the chain leaderboard. As you iterate new versions of your LLM application, you can compare their performance across all of the different quality metrics you've set up.\n",
        "\n",
        "Note: Average feedback values are returned and displayed in a range from 0 (worst) to 1 (best).\n",
        "\n",
        "![Chain Leaderboard](https://www.trulens.org/Assets/image/Leaderboard.png)\n",
        "\n",
        "To dive deeper on a particular chain, click \"Select Chain\".\n",
        "\n",
        "### Understand chain performance with Evaluations\n",
        "\n",
        "To learn more about the performance of a particular chain or LLM model, we can select it to view its evaluations at the record level. LLM quality is assessed through the use of feedback functions. Feedback functions are extensible methods for determining the quality of LLM responses and can be applied to any downstream LLM task. Out of the box we provide a number of feedback functions for assessing model agreement, sentiment, relevance and more.\n",
        "\n",
        "The evaluations tab provides record-level metadata and feedback on the quality of your LLM application.\n",
        "\n",
        "![Evaluations](https://www.trulens.org/Assets/image/Leaderboard.png)\n",
        "\n",
        "### Deep dive into full chain metadata\n",
        "\n",
        "Click on a record to dive deep into all of the details of your chain stack and underlying LLM, captured by tru_chain.\n",
        "\n",
        "![Explore a Chain](https://www.trulens.org/Assets/image/Chain_Explore.png)\n",
        "\n",
        "If you prefer the raw format, you can quickly get it using the \"Display full chain json\" or \"Display full record json\" buttons at the bottom of the page."
      ],
      "id": "4u8HQjipdKZG"
    },
    {
      "cell_type": "markdown",
      "metadata": {
        "id": "rsaQBXXNdKZG"
      },
      "source": [
        "Note: Feedback functions evaluated in the deferred manner can be seen in the \"Progress\" page of the TruLens dashboard."
      ],
      "id": "rsaQBXXNdKZG"
    },
    {
      "cell_type": "markdown",
      "metadata": {
        "id": "Ri6MIcmndKZG"
      },
      "source": [
        "## Or view results directly in your notebook"
      ],
      "id": "Ri6MIcmndKZG"
    },
    {
      "cell_type": "code",
      "execution_count": null,
      "metadata": {
        "id": "DBBcXj1GdKZG"
      },
      "outputs": [],
      "source": [
        "tru.get_records_and_feedback(app_ids=[])[0] # pass an empty list of app_ids to get all"
      ],
      "id": "DBBcXj1GdKZG"
    }
  ],
  "metadata": {
    "kernelspec": {
      "display_name": "Python 3 (ipykernel)",
      "language": "python",
      "name": "python3"
    },
    "language_info": {
      "codemirror_mode": {
        "name": "ipython",
        "version": 3
      },
      "file_extension": ".py",
      "mimetype": "text/x-python",
      "name": "python",
      "nbconvert_exporter": "python",
      "pygments_lexer": "ipython3",
      "version": "3.11.3"
    },
    "vscode": {
      "interpreter": {
        "hash": "d5737f6101ac92451320b0e41890107145710b89f85909f3780d702e7818f973"
      }
    },
    "colab": {
      "provenance": [],
      "include_colab_link": true
    }
  },
  "nbformat": 4,
  "nbformat_minor": 5
}